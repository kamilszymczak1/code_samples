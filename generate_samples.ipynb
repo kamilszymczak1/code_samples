{
 "cells": [
  {
   "cell_type": "code",
   "execution_count": null,
   "metadata": {},
   "outputs": [],
   "source": [
    "import random\n",
    "import json\n",
    "\n",
    "def gen_random_indices(limit, max_spread=10):\n",
    "    i = random.randint(1, limit - max_spread - 1)\n",
    "    j = random.randint(i + 1, min(i + max_spread, limit - 1))\n",
    "    return (i, j)\n",
    "\n",
    "\n",
    "def create_sample(lines, max_spread=10):\n",
    "    lines = list(filter(lambda x : x.strip() != \"\", lines)) # Remove all whitespace lines\n",
    "\n",
    "    i, j = gen_random_indices(len(lines), max_spread)\n",
    "\n",
    "    return {\n",
    "        \"prefix\": ''.join(lines[:i]),\n",
    "        \"chunk\": ''.join(lines[i:j]),\n",
    "        \"suffix\": ''.join(lines[j:])\n",
    "    }\n",
    "\n",
    "\n",
    "samples = []\n",
    "\n",
    "for filename in [\"./examples/nand.c\", \"./examples/medals.cpp\", \"./examples/MatrixRowSums.java\"]:\n",
    "    with open(filename, \"r\") as file:\n",
    "        lines = file.readlines()\n",
    "\n",
    "    for max_spread in range(1, 12):\n",
    "        sample = create_sample(lines, max_spread)\n",
    "        samples.append(sample)\n",
    "\n",
    "json.dump(samples, open(\"samples.json\", \"w\"), indent=4) \n"
   ]
  }
 ],
 "metadata": {
  "kernelspec": {
   "display_name": "Python 3",
   "language": "python",
   "name": "python3"
  },
  "language_info": {
   "codemirror_mode": {
    "name": "ipython",
    "version": 3
   },
   "file_extension": ".py",
   "mimetype": "text/x-python",
   "name": "python",
   "nbconvert_exporter": "python",
   "pygments_lexer": "ipython3",
   "version": "3.10.12"
  }
 },
 "nbformat": 4,
 "nbformat_minor": 2
}
